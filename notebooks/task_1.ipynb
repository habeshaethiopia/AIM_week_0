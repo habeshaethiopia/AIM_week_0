{
 "cells": [
  {
   "cell_type": "code",
   "execution_count": null,
   "metadata": {},
   "outputs": [],
   "source": [
    "import pandas as pd\n",
    "import numpy as np\n",
    "import seaborn as sns\n",
    "import matplotlib.pyplot as plt\n",
    "import matplotlib.dates as mdates\n",
    "\n",
    "df=pd.read_csv('../data/benin-malanville.csv')\n",
    "\n"
   ]
  },
  {
   "cell_type": "markdown",
   "metadata": {},
   "source": [
    "## Summary Statistics:"
   ]
  },
  {
   "cell_type": "code",
   "execution_count": null,
   "metadata": {},
   "outputs": [],
   "source": [
    "\n",
    "\n",
    "df.describe()\n"
   ]
  },
  {
   "cell_type": "code",
   "execution_count": null,
   "metadata": {},
   "outputs": [],
   "source": [
    "# Check for missing values\n",
    "missing_values = df.isnull().sum()\n",
    "print(\"Missing Values:\\n\", missing_values)\n",
    "\n",
    "# Check for duplicate rows\n",
    "duplicate_rows = df.duplicated().sum()\n",
    "print(\"Duplicate Rows:\", duplicate_rows)\n",
    "\n",
    "# Check data types of columns\n",
    "data_types = df.dtypes\n",
    "print(\"Data Types:\\n\", data_types)\n",
    "\n",
    "# Check for invalid values\n",
    "\n",
    "invalid_values = df.isin([0]).sum()\n",
    "print(\"Invalid Values:\\n\", invalid_values)\n",
    "\n",
    "# Check for missing values\n",
    "missing_values = df[['GHI', 'DNI', 'DHI']].isnull().sum()\n",
    "print(\"Missing Values:\\n\", missing_values)\n",
    "\n",
    "# Check for outliers\n",
    "outliers = df[['GHI', 'DNI', 'DHI']].apply(lambda x: x[(x - x.mean()).abs() > 3 * x.std()])\n",
    "print(\"Outliers:\\n\", outliers)\n",
    "\n",
    "# Check for incorrect entries\n",
    "incorrect_entries = df[['GHI', 'DNI', 'DHI']].apply(lambda x: x[x < 0])\n",
    "print(\"Incorrect Entries:\\n\", incorrect_entries)\n"
   ]
  },
  {
   "cell_type": "code",
   "execution_count": 3,
   "metadata": {},
   "outputs": [],
   "source": [
    "import matplotlib.pyplot as plt\n",
    "\n",
    "# Set the figure size\n",
    "plt.figure(figsize=(12, 6))\n",
    "\n",
    "# Plot GHI\n",
    "plt.plot(df['Timestamp'], df['GHI'], label='GHI')\n",
    "\n",
    "# Plot DNI\n",
    "plt.plot(df['Timestamp'], df['DNI'], label='DNI')\n",
    "\n",
    "# Plot DHI\n",
    "plt.plot(df['Timestamp'], df['DHI'], label='DHI')\n",
    "\n",
    "# Plot Tamb\n",
    "plt.plot(df['Timestamp'], df['Tamb'], label='Tamb')\n",
    "\n",
    "# Set the x-axis label\n",
    "plt.xlabel('Timestamp')\n",
    "\n",
    "# Set the y-axis label\n",
    "plt.ylabel('Value')\n",
    "\n",
    "# Set the title\n",
    "plt.title('Time Series Analysis')\n",
    "\n",
    "# Add a legend\n",
    "plt.legend()\n",
    "\n",
    "# Show the plot\n",
    "plt.show()\n"
   ]
  },
  {
   "cell_type": "code",
   "execution_count": null,
   "metadata": {},
   "outputs": [],
   "source": [
    "import matplotlib.pyplot as plt\n",
    "\n",
    "# Set the figure size\n",
    "plt.figure(figsize=(12, 6))\n",
    "\n",
    "# Plot GHI histogram\n",
    "plt.subplot(2, 3, 1)\n",
    "plt.hist(df['GHI'], bins=10)\n",
    "plt.xlabel('GHI')\n",
    "plt.ylabel('Frequency')\n",
    "plt.title('GHI Histogram')\n",
    "\n",
    "# Plot DNI histogram\n",
    "plt.subplot(2, 3, 2)\n",
    "plt.hist(df['DNI'], bins=10)\n",
    "plt.xlabel('DNI')\n",
    "plt.ylabel('Frequency')\n",
    "plt.title('DNI Histogram')\n",
    "\n",
    "# Plot DHI histogram\n",
    "plt.subplot(2, 3, 3)\n",
    "plt.hist(df['DHI'], bins=10)\n",
    "plt.xlabel('DHI')\n",
    "plt.ylabel('Frequency')\n",
    "plt.title('DHI Histogram')\n",
    "\n",
    "# Plot WS histogram\n",
    "plt.subplot(2, 3, 4)\n",
    "plt.hist(df['WS'], bins=10)\n"
   ]
  },
  {
   "cell_type": "code",
   "execution_count": null,
   "metadata": {},
   "outputs": [],
   "source": [
    "plt.xlabel('WS')\n",
    "plt.ylabel('Frequency')\n",
    "plt.title('WS Histogram')\n",
    "\n",
    "# Plot temperatures histogram\n",
    "plt.subplot(2, 3, 5)\n",
    "plt.hist(df['temperatures'], bins=10)\n",
    "plt.xlabel('Temperatures')\n",
    "plt.ylabel('Frequency')\n",
    "plt.title('Temperatures Histogram')\n",
    "\n",
    "# Adjust the spacing between subplots\n",
    "plt.tight_layout()\n",
    "\n",
    "# Show the plot\n",
    "plt.show()\n"
   ]
  }
 ],
 "metadata": {
  "kernelspec": {
   "display_name": "AIM_env",
   "language": "python",
   "name": "python3"
  },
  "language_info": {
   "codemirror_mode": {
    "name": "ipython",
    "version": 3
   },
   "file_extension": ".py",
   "mimetype": "text/x-python",
   "name": "python",
   "nbconvert_exporter": "python",
   "pygments_lexer": "ipython3",
   "version": "3.10.12"
  }
 },
 "nbformat": 4,
 "nbformat_minor": 2
}
